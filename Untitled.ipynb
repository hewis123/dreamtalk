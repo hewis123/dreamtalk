{
  "nbformat": 4,
  "nbformat_minor": 0,
  "metadata": {
    "colab": {
      "provenance": []
    },
    "kernelspec": {
      "name": "python3",
      "display_name": "Python 3"
    },
    "language_info": {
      "name": "python"
    }
  },
  "cells": [
    {
      "cell_type": "code",
      "execution_count": null,
      "metadata": {
        "id": "wHCTzCVBkk8t"
      },
      "outputs": [],
      "source": [
        "# 技术问题及交流：\n",
        "# 公众号：AIproall\n",
        "# 微信：ai285016567\n",
        "# （参照x上的大神创建）"
      ]
    },
    {
      "cell_type": "code",
      "execution_count": null,
      "metadata": {
        "id": "VjYy0F2gZIPR"
      },
      "outputs": [],
      "source": [
        "%cd /content\n",
        "!git clone -b dev https://github.com/camenduru/dreamtalk\n",
        "%cd /content/dreamtalk\n",
        "\n",
        "!wget https://huggingface.co/camenduru/dreamtalk/resolve/main/damo/dreamtalk/checkpoints/denoising_network.pth -O /content/dreamtalk/checkpoints/denoising_network.pth\n",
        "!wget https://huggingface.co/camenduru/dreamtalk/resolve/main/damo/dreamtalk/checkpoints/renderer.pt -O /content/dreamtalk/checkpoints/renderer.pt\n",
        "\n",
        "!pip install -q yacs av"
      ]
    },
    {
      "cell_type": "code",
      "source": [
        "!python inference_for_demo_video.py \\\n",
        "--wav_path data/audio/acknowledgement_english.m4a \\\n",
        "--style_clip_path data/style_clip/3DMM/M030_front_neutral_level1_001.mat \\\n",
        "--pose_path data/pose/RichardShelby_front_neutral_level1_001.mat \\\n",
        "--image_path data/src_img/uncropped/male_face.png \\\n",
        "#--disable_img_crop \\\n",
        "--cfg_scale 1.0 \\\n",
        "--max_gen_len 30 \\\n",
        "--output_name test1"
      ],
      "metadata": {
        "id": "ReLBzD98lDtz"
      },
      "execution_count": null,
      "outputs": []
    }
  ]
}
